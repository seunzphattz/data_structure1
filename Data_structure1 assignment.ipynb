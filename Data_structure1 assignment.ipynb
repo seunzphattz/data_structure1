{
 "cells": [
  {
   "cell_type": "markdown",
   "id": "dd4a70f2",
   "metadata": {},
   "source": [
    "#Assignment on data structure."
   ]
  },
  {
   "cell_type": "markdown",
   "id": "5c07a0ca",
   "metadata": {},
   "source": [
    "Assignment on data structure contains assignments testing knowledge on data structures in python and various ways tthose data structures can be worked on for future analysis"
   ]
  },
  {
   "cell_type": "markdown",
   "id": "1acb8b50",
   "metadata": {},
   "source": [
    "Question 1....\n",
    "1.¶\n",
    "x = 16 - 2 * 5 // 3 + 1\n",
    "\n",
    "y = 2 ** 3 * 3\n",
    "\n",
    "what is x? what is y?\n",
    "\n",
    "Describe the order that the computation occurred in each case. i.e which happened first, followed by which one, etc.\n",
    "\n",
    "Answer: The brackets described the order in which the computation occurred."
   ]
  },
  {
   "cell_type": "code",
   "execution_count": 7,
   "id": "5c12449b",
   "metadata": {},
   "outputs": [
    {
     "name": "stdout",
     "output_type": "stream",
     "text": [
      "13\n",
      "24\n"
     ]
    }
   ],
   "source": [
    "x = 16- ((2 * (5//3) ) + 1 )\n",
    "\n",
    "y = ((2 ** 3) * 3)\n",
    "\n",
    "print(x)\n",
    "print(y)"
   ]
  },
  {
   "cell_type": "markdown",
   "id": "399beb91",
   "metadata": {},
   "source": [
    "Question 2... \n",
    "Add parenthesis to the expression 6 * 1 - 2 to change the resulting value from 4 to -6.\n",
    "Answer:"
   ]
  },
  {
   "cell_type": "code",
   "execution_count": 11,
   "id": "62504f06",
   "metadata": {},
   "outputs": [
    {
     "name": "stdout",
     "output_type": "stream",
     "text": [
      "-6\n"
     ]
    }
   ],
   "source": [
    "x = 6 * (1 - 2)\n",
    "print(x)"
   ]
  },
  {
   "cell_type": "markdown",
   "id": "a03ab2e9",
   "metadata": {},
   "source": [
    "Question 3... Compute the area of a circle with radius 7, stored into a variable called area. \n",
    "Print a nice message with the answer.\n",
    "\n",
    "Note- Search for the formula to calculate area of a circle. \n",
    "answer:"
   ]
  },
  {
   "cell_type": "code",
   "execution_count": 20,
   "id": "71dc4199",
   "metadata": {},
   "outputs": [
    {
     "name": "stdout",
     "output_type": "stream",
     "text": [
      "153.93804002589985\n"
     ]
    }
   ],
   "source": [
    "import math\n",
    "pi =(math.pi)\n",
    "pi = 3.14159265358979\n",
    "r = 7\n",
    "area_of_a_circle = 3.141592653589793 * (r**2)    #float object isn't callable so I had to manually type it\n",
    "print(area_of_a_circle)\n"
   ]
  },
  {
   "cell_type": "markdown",
   "id": "7045f2a6",
   "metadata": {},
   "source": [
    "Question 4... Write an expression to check to if a number 3, stored in a variable x, is between 0 and 5.\n"
   ]
  },
  {
   "cell_type": "code",
   "execution_count": 106,
   "id": "f4eaa309",
   "metadata": {},
   "outputs": [
    {
     "name": "stdout",
     "output_type": "stream",
     "text": [
      "No\n"
     ]
    }
   ],
   "source": [
    "x = [0,1,2,7,4,5]       #I don't understand this but this is how best I understand it\n",
    "for item in x:\n",
    "    if item == 3:\n",
    "        print(\"Yeah\")\n",
    "        break\n",
    "else:\n",
    "    print(\"No\")\n",
    "\n",
    "    \n"
   ]
  },
  {
   "cell_type": "markdown",
   "id": "a82da321",
   "metadata": {},
   "source": [
    "5.\n",
    "Variables x and y refer to Boolean values.\n",
    "\n",
    "a. Write an expression that produces True if both variables are True.\n",
    "\n",
    "b. Write an expression that produces True if at least one of the variables is True.\n",
    "\n",
    "c. write an expression that inverses the result of 5a above.\n",
    "Answer:"
   ]
  },
  {
   "cell_type": "code",
   "execution_count": 75,
   "id": "4d1c32ca",
   "metadata": {},
   "outputs": [
    {
     "name": "stdout",
     "output_type": "stream",
     "text": [
      "False\n",
      "True\n",
      "True\n"
     ]
    }
   ],
   "source": [
    "x = False\n",
    "y = True\n",
    "\n",
    "print(x and y)\n",
    "print(x or y)\n",
    "print(not (x and y))"
   ]
  },
  {
   "cell_type": "markdown",
   "id": "231ef8f5",
   "metadata": {},
   "source": [
    "5....\n",
    "Create a list that contains floats and integers, and write a code to sum all the items in the list."
   ]
  },
  {
   "cell_type": "code",
   "execution_count": 109,
   "id": "0c4969f1",
   "metadata": {},
   "outputs": [
    {
     "name": "stdout",
     "output_type": "stream",
     "text": [
      "2\n",
      "4.3\n",
      "7.3\n"
     ]
    }
   ],
   "source": [
    "list = [2,2.3,3]\n",
    "sum = 0\n",
    "for number in list:\n",
    "    sum =sum + number\n",
    "    print(sum)"
   ]
  },
  {
   "cell_type": "markdown",
   "id": "81234cc2",
   "metadata": {},
   "source": [
    "Question 7... list1 = [3, 5, 1, 3, 9, 5, 7]\n",
    "\n",
    "Write a code to sort this list in increasing order."
   ]
  },
  {
   "cell_type": "code",
   "execution_count": 44,
   "id": "0f9ca96a",
   "metadata": {},
   "outputs": [
    {
     "name": "stdout",
     "output_type": "stream",
     "text": [
      "[1, 3, 3, 5, 5, 7, 9]\n"
     ]
    }
   ],
   "source": [
    "list1 = [3, 5, 1, 3,9,5,7]\n",
    "b = list1.sort()\n",
    "print(list1)\n"
   ]
  },
  {
   "cell_type": "markdown",
   "id": "5402aa2a",
   "metadata": {},
   "source": [
    "question 8. list2 = [1, 2, 5, 7, 9, 0, 3, 6, 7, 1, 3, 5, 6, 8, ,2, 9, 0, 5, 2, 1, 2, 4, 2]\n",
    "\n",
    "Write a code to count how many times 2 occured in the list\n"
   ]
  },
  {
   "cell_type": "code",
   "execution_count": 48,
   "id": "b1cc4015",
   "metadata": {},
   "outputs": [
    {
     "ename": "SyntaxError",
     "evalue": "invalid syntax (<ipython-input-48-895c81437141>, line 1)",
     "output_type": "error",
     "traceback": [
      "\u001b[1;36m  File \u001b[1;32m\"<ipython-input-48-895c81437141>\"\u001b[1;36m, line \u001b[1;32m1\u001b[0m\n\u001b[1;33m    list2 = [1, 2, 5, 7, 9, 0, 3, 6, 7, 1, 3, 5, 6, 8, ,2, 9, 0, 5, 2, 1, 2, 4, 2]\u001b[0m\n\u001b[1;37m                                                       ^\u001b[0m\n\u001b[1;31mSyntaxError\u001b[0m\u001b[1;31m:\u001b[0m invalid syntax\n"
     ]
    }
   ],
   "source": [
    "list2 = [1, 2, 5, 7, 9, 0, 3, 6, 7, 1, 3, 5, 6, 8, ,2, 9, 0, 5, 2, 1, 2, 4, 2]\n",
    "list2.find[2]"
   ]
  },
  {
   "cell_type": "markdown",
   "id": "1a62fcb6",
   "metadata": {},
   "source": [
    "list3 = [\"Tosin\", 10.4, 9, (23, \"Faith\", [10, [\"Chinelo\", \"Sandra\"], 22]), 100, 85.5, 12.4, \"Promise\", (\"11\", 90)]\n",
    "\n",
    "Using string formatting, write a code that slices out \"Chinelo\", \"Faith\", slices out the number 100, 85.5, and 90.\n",
    "\n",
    "Your code should print out: Chinelo couldn't score 100%, she got 90%, However, Faith is a close second with 85.5%.\n",
    "\n",
    "NB: Make sure your output contains % sign"
   ]
  },
  {
   "cell_type": "code",
   "execution_count": 70,
   "id": "1117af92",
   "metadata": {},
   "outputs": [
    {
     "data": {
      "text/plain": [
       "\"Chinelo couldn't score 100%,she got 90%, However,faith is a close second with 85.5%\""
      ]
     },
     "execution_count": 70,
     "metadata": {},
     "output_type": "execute_result"
    }
   ],
   "source": [
    "list3 = [\"Tosin\", 10.4, 9, (23, \"Faith\", [10, [\"Chinelo\", \"Sandra\"], 22]), 100, 85.5, 12.4, \"Promise\", (\"11\", 90)]\n",
    "f\"{list3[3][2][1][0]} couldn't score {list3[4]}%,she got {list3[-1][1]}%, However,faith is a close second with {list3[5]}%\"\n",
    "\n"
   ]
  },
  {
   "cell_type": "markdown",
   "id": "5c8260a1",
   "metadata": {},
   "source": [
    "Question 10...list4 = [\"Chima\", \"Ebuka\", \"Rose\", \"Hassan\", \"Bisi\"]\n",
    "\n",
    "Write a code that removes any of these names and replaces it with your name in that particular index"
   ]
  },
  {
   "cell_type": "code",
   "execution_count": 73,
   "id": "b1c7fde7",
   "metadata": {},
   "outputs": [
    {
     "name": "stdout",
     "output_type": "stream",
     "text": [
      "['Chima', 'Seunzy', 'Rose', 'Hassan', 'Bisi']\n"
     ]
    }
   ],
   "source": [
    "list4 = [\"Chima\", \"Ebuka\", \"Rose\", \"Hassan\", \"Bisi\"]\n",
    "list4[1] = \"Seunzy\"\n",
    "print(list4)"
   ]
  },
  {
   "cell_type": "markdown",
   "id": "6e317033",
   "metadata": {},
   "source": [
    "Question 11... 11.\n",
    "list4 = [\"Chima\", \"Ebuka\", \"Rose\", \"Hassan\", \"Bisi\"]\n",
    "\n",
    "Write a code that prints out the index positon of the name \"Rose\""
   ]
  },
  {
   "cell_type": "code",
   "execution_count": 75,
   "id": "975224ea",
   "metadata": {},
   "outputs": [
    {
     "name": "stdout",
     "output_type": "stream",
     "text": [
      "Rose\n"
     ]
    }
   ],
   "source": [
    "list4 = [\"Chima\", \"Ebuka\", \"Rose\", \"Hassan\", \"Bisi\"]\n",
    "print(list4[2])"
   ]
  },
  {
   "cell_type": "markdown",
   "id": "1989fa1e",
   "metadata": {},
   "source": [
    "Question 12 ...list4 = [\"Chima\", \"Ebuka\", \"Rose\", \"Hassan\", \"Bisi\"]\n",
    "\n",
    "Write a code that adds your name to this list of names"
   ]
  },
  {
   "cell_type": "code",
   "execution_count": 78,
   "id": "5fb61ec5",
   "metadata": {},
   "outputs": [
    {
     "name": "stdout",
     "output_type": "stream",
     "text": [
      "['Chima', 'Ebuka', 'Rose', 'Hassan', 'Bisi', 'Seunzy']\n"
     ]
    }
   ],
   "source": [
    "list4 = [\"Chima\", \"Ebuka\", \"Rose\", \"Hassan\", \"Bisi\"]\n",
    "list4.append(\"Seunzy\")\n",
    "print(list4)"
   ]
  },
  {
   "cell_type": "markdown",
   "id": "6dbe59cb",
   "metadata": {},
   "source": [
    "Question 13...sets = {3, 1, 10, 4, 5, 6}\n",
    "\n",
    "Write a code that sorts this set in asceding order. Print the output, explain the out you got and why."
   ]
  },
  {
   "cell_type": "code",
   "execution_count": 98,
   "id": "2362683d",
   "metadata": {},
   "outputs": [
    {
     "ename": "SyntaxError",
     "evalue": "invalid syntax (<ipython-input-98-7aaf8d605b7c>, line 3)",
     "output_type": "error",
     "traceback": [
      "\u001b[1;36m  File \u001b[1;32m\"<ipython-input-98-7aaf8d605b7c>\"\u001b[1;36m, line \u001b[1;32m3\u001b[0m\n\u001b[1;33m    It is not possible to sort the vaue in a set.\u001b[0m\n\u001b[1;37m                       ^\u001b[0m\n\u001b[1;31mSyntaxError\u001b[0m\u001b[1;31m:\u001b[0m invalid syntax\n"
     ]
    }
   ],
   "source": [
    "sets = {3, 1, 10, 4, 5, 6}\n",
    "print(list(sets))\n",
    "It is not possible to sort the vaue in a set.\n",
    "     \n",
    "     \n",
    "    "
   ]
  },
  {
   "cell_type": "code",
   "execution_count": 111,
   "id": "ea58b221",
   "metadata": {},
   "outputs": [
    {
     "name": "stdout",
     "output_type": "stream",
     "text": [
      "{70, 40, 10, 50, 20, 60, 30}\n"
     ]
    }
   ],
   "source": [
    "i#Question 14... \n",
    "set1 = {10, 20, 30, 40, 50}\n",
    "set2 = {30, 40, 50, 60, 70}\n",
    "#Write a code prints out a new set with all items from both sets by removing duplicates\n",
    "set3 = set1.union(set2)\n",
    "print(set3)"
   ]
  },
  {
   "cell_type": "markdown",
   "id": "84396e0c",
   "metadata": {},
   "source": [
    "Question 14...\n",
    "Create a string that is a long series of words separated by spaces. It can be names, cities, animals, anything. Just make it up yourself.\n",
    "Turn the string into a list of words using split.\n",
    "Delete two words from the list, but delete each one using a different kind of Python method.\n",
    "Sort the list.\n",
    "Add two new words to the list using two different kinds of Python operation used in adding items to a list.\n",
    "Turn the list of words back into a single string using join.\n",
    "Print the string."
   ]
  },
  {
   "cell_type": "code",
   "execution_count": 126,
   "id": "732f4699",
   "metadata": {},
   "outputs": [
    {
     "name": "stdout",
     "output_type": "stream",
     "text": [
      "titi shade tayo Kola bolu\n",
      "['titi', 'shade', 'tayo', 'Kola']\n",
      "['shade', 'tayo', 'Kola']\n",
      "['Kola', 'shade', 'tayo']\n",
      "['Kola', 'shade', 'tayo', 'Tunde']\n",
      "titi None tayo Kola\n"
     ]
    }
   ],
   "source": [
    "a,b,c,d,e = [\"titi\",\"shade\",\"tayo\",\"Kola\",\"bolu\"]\n",
    "print(a,b,c,d,e)\n",
    "\n",
    "list1 = [\"titi\",\"shade\",\"tayo\",\"Kola\",\"bolu\"]\n",
    "list1.pop()\n",
    "print(list1)\n",
    "list1.remove(\"titi\")\n",
    "print(list1)\n",
    "b = list1.sort()\n",
    "print(list1)\n",
    "list1.append(\"Tunde\")\n",
    "print(list1)\n",
    "list1 = a,b,c,d\n",
    "print(a,b,c,d)\n",
    "\n"
   ]
  }
 ],
 "metadata": {
  "kernelspec": {
   "display_name": "Python 3",
   "language": "python",
   "name": "python3"
  },
  "language_info": {
   "codemirror_mode": {
    "name": "ipython",
    "version": 3
   },
   "file_extension": ".py",
   "mimetype": "text/x-python",
   "name": "python",
   "nbconvert_exporter": "python",
   "pygments_lexer": "ipython3",
   "version": "3.8.8"
  }
 },
 "nbformat": 4,
 "nbformat_minor": 5
}
